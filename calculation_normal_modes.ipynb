{
 "cells": [
  {
   "cell_type": "markdown",
   "metadata": {},
   "source": [
    "# Vibrational Modes of Iso-Propanol\n",
    "Due to availability modes were calculated with a software used for quantum-chemistry."
   ]
  },
  {
   "cell_type": "code",
   "execution_count": 1,
   "metadata": {},
   "outputs": [],
   "source": [
    "import psi4\n",
    "import numpy as np\n",
    "from rdkit import Chem\n",
    "from rdkit.Chem import AllChem"
   ]
  },
  {
   "cell_type": "code",
   "execution_count": 2,
   "metadata": {},
   "outputs": [],
   "source": [
    "%config Completer.use_jedi = False"
   ]
  },
  {
   "cell_type": "code",
   "execution_count": null,
   "metadata": {},
   "outputs": [],
   "source": [
    "molecule = Chem.MolFromSmiles('CC(O)C')\n",
    "molecule = Chem.AddHs(molecule)\n",
    "\n",
    "# Optimzie geometry with rdkit\n",
    "AllChem.EmbedMolecule(molecule)\n",
    "# Transforming mol Block to a format Psi4 understands\n",
    "mol_block = Chem.MolToXYZBlock(molecule)[4:-1]\n",
    "mol_block = \"\\n\".join([\"0 1\", mol_block, \"units angstrom\"])"
   ]
  },
  {
   "cell_type": "code",
   "execution_count": 7,
   "metadata": {},
   "outputs": [
    {
     "data": {
      "text/plain": [
       "-193.11960581545182"
      ]
     },
     "execution_count": 7,
     "metadata": {},
     "output_type": "execute_result"
    }
   ],
   "source": [
    "# Setting psi4 parameter\n",
    "psi4.set_memory('5000 MB')\n",
    "psi4.set_options({\"PARALLEL\": True,\n",
    "                 'reference': 'rhf'})\n",
    "# Creating a psi4 molecule\n",
    "iso_prop = psi4.geometry(mol_block)\n",
    "\n",
    "# Evaluating it's energy\n",
    "psi4.energy('scf/cc-pvdz')"
   ]
  },
  {
   "cell_type": "code",
   "execution_count": 8,
   "metadata": {},
   "outputs": [
    {
     "name": "stdout",
     "output_type": "stream",
     "text": [
      "Optimizer: Optimization complete!\n"
     ]
    },
    {
     "data": {
      "text/plain": [
       "-193.13501268787556"
      ]
     },
     "execution_count": 8,
     "metadata": {},
     "output_type": "execute_result"
    }
   ],
   "source": [
    "# Optimizing Molecule geometry\n",
    "psi4.optimize('scf/cc-pvdz', molecule=iso_prop)"
   ]
  },
  {
   "cell_type": "code",
   "execution_count": 10,
   "metadata": {},
   "outputs": [
    {
     "name": "stdout",
     "output_type": "stream",
     "text": [
      "Warning: used thermodynamics relations inappropriate for low-frequency modes: ['236.9934' '287.3888' '325.8048' '386.0118' '445.3656' '517.0568']\n"
     ]
    }
   ],
   "source": [
    "# Frequency calculation. May take time...\n",
    "# scf: self-consistent field a.k.a. Hartree–Fock method\n",
    "# cc-pvdz: correlation-consistent basis sets (https://aip.scitation.org/doi/10.1063/1.456153)\n",
    "#          \n",
    "scf_e, scf_wfn = psi4.frequency('scf/cc-pvdz', molecule=iso_prop, return_wfn=True)"
   ]
  },
  {
   "cell_type": "code",
   "execution_count": 11,
   "metadata": {},
   "outputs": [],
   "source": [
    "# https://github.com/psi4/psi4/blob/3d2403c43e2cf8df699ff6e382a4ae2e3a0a5faa/psi4/driver/qcdb/vib.py#L177\n",
    "# Modified this funtion to return a format readable by Avogrado\n",
    "\n",
    "def wfn2molen_vibrational_modes(wfn):\n",
    "    mol = wfn.molecule()\n",
    "    geom = np.asarray(mol.geometry())\n",
    "    atom_symbol = [mol.symbol(at) for at in range(mol.natom())]\n",
    "    vibinfo = wfn.frequency_analysis\n",
    "    \"\"\"Format vibrational analysis for Molden.\n",
    "    Parameters\n",
    "    ----------\n",
    "    vibinfo : dict of vibration Datum\n",
    "        Holds results of vibrational analysis.\n",
    "    atom_symbol : array-like of str\n",
    "        (nat,) element symbols for geometry of vibrational analysis.\n",
    "    geom : array-like of float\n",
    "        (nat, 3) geometry of vibrational analysis [a0].\n",
    "    standalone : bool, optional\n",
    "        Whether returned string prefixed \"[Molden Format]\" for standalone rather than append.\n",
    "    Returns\n",
    "    -------\n",
    "    str\n",
    "        `vibinfo` formatted for Molden, including FREQ, FR-COORD, & FR-NORM-COORD fields.\n",
    "    Notes\n",
    "    -----\n",
    "    Molden format spec from http://www.cmbi.ru.nl/molden/molden_format.html\n",
    "    Specifies \"atomic coordinates x,y,z and atomic displacements dx,dy,dz are all in Bohr (Atomic Unit of length)\"\n",
    "    Despite it being quite wrong, imaginary modes are represented by a negative frequency.\n",
    "    \n",
    "    Modified to be accepted by Avogrado. \n",
    "    \"\"\"\n",
    "    nat = int(len(vibinfo['q'].data[:, 0]) / 3)\n",
    "    active = [idx for idx, trv in enumerate(vibinfo['TRV'].data) if trv == 'V']\n",
    "\n",
    "    text = '[Molden Format]\\n'\n",
    "\n",
    "    text += \"\"\"[FREQ]\\n\"\"\"\n",
    "    for vib in active:\n",
    "        if vibinfo['omega'].data[vib].imag > vibinfo['omega'].data[vib].real:\n",
    "            freq = -1.0 * vibinfo['omega'].data[vib].imag\n",
    "        else:\n",
    "            freq = vibinfo['omega'].data[vib].real\n",
    "        text += \"\"\"{:11.4f}\\n\"\"\".format(freq)\n",
    "\n",
    "    text += \"\"\"[FR-COORD]\\n\"\"\"\n",
    "    for at in range(nat):\n",
    "        text += (\"{:>2}{:13.6f}{:13.6f}{:13.6f}\\n\").format(atom_symbol[at], *geom[at])\n",
    "\n",
    "    text += \"\"\"[FR-NORM-COORD]\\n\"\"\"\n",
    "    for idx, vib in enumerate(active):\n",
    "        text += \"\"\"vibration {}\\n\"\"\".format(idx + 1)\n",
    "        for at in range(nat):\n",
    "            text += ('   ' + \"\"\"{:11.6f}\"\"\" * 3 + '\\n').format(*(vibinfo['x'].data[:, vib].reshape(nat, 3)[at].real))\n",
    "\n",
    "\n",
    "    return text"
   ]
  },
  {
   "cell_type": "code",
   "execution_count": 14,
   "metadata": {},
   "outputs": [],
   "source": [
    "# Writing result to ouput file\n",
    "with open(\"iso_prop.molden\", \"w\") as out:\n",
    "    out.write(wfn2molen_vibrational_modes(scf_wfn))"
   ]
  },
  {
   "cell_type": "code",
   "execution_count": null,
   "metadata": {},
   "outputs": [],
   "source": []
  }
 ],
 "metadata": {
  "kernelspec": {
   "display_name": "Python 3",
   "language": "python",
   "name": "python3"
  },
  "language_info": {
   "codemirror_mode": {
    "name": "ipython",
    "version": 3
   },
   "file_extension": ".py",
   "mimetype": "text/x-python",
   "name": "python",
   "nbconvert_exporter": "python",
   "pygments_lexer": "ipython3",
   "version": "3.7.9"
  }
 },
 "nbformat": 4,
 "nbformat_minor": 4
}
